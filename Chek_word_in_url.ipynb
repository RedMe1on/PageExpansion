{
 "cells": [
  {
   "cell_type": "code",
   "execution_count": 4,
   "metadata": {},
   "outputs": [
    {
     "name": "stdout",
     "output_type": "stream",
     "text": [
      "0        <p>На смену старым карбюраторным системам пода...\n",
      "1        <p>Бензонасос откачивает топливо из бака и под...\n",
      "2        <p>Дизельные форсунки &ndash; это небольшие на...\n",
      "3        <p>Инжекторная система подачи топлива отличает...\n",
      "4        <p>Автомобиль, на котором установлена неисправ...\n",
      "                               ...                        \n",
      "35587    <p>Чтобы не подвергать опасности жизни людей и...\n",
      "35588    <p>Топливная система Acura TL подает горючее и...\n",
      "35589    <p>По завершении сборки автомобиля Acura TL ра...\n",
      "35590    <p>Трансмиссия Acura TL &ndash; совокупность м...\n",
      "35591    <p>Выхлопная система Acura TL считается одним ...\n",
      "Name: Основной текст, Length: 35592, dtype: object\n",
      "Уже есть услуга ('Ремонт тормозных суппортов', 'BMW', nan)\n"
     ]
    },
    {
     "name": "stderr",
     "output_type": "stream",
     "text": [
      "C:\\Users\\lalko\\Anaconda3\\envs\\seo\\lib\\site-packages\\ipykernel_launcher.py:51: FutureWarning: `item` has been deprecated and will be removed in a future version\n"
     ]
    },
    {
     "name": "stdout",
     "output_type": "stream",
     "text": [
      "Уже есть услуга ('Ремонт тормозных суппортов', 'Daewoo', 'Nexia')\n",
      "Уже есть услуга ('Ремонт тормозных суппортов', 'Ford', nan)\n",
      "Уже есть услуга ('Ремонт тормозных суппортов', 'Hyundai', 'Solaris')\n",
      "Уже есть услуга ('Ремонт тормозных суппортов', 'Infiniti', nan)\n",
      "Уже есть услуга ('Ремонт тормозных суппортов', 'Kia', 'Cerato')\n",
      "Уже есть услуга ('Ремонт тормозных суппортов', 'Mitsubishi', 'Outlander')\n",
      "Уже есть услуга ('Ремонт тормозных суппортов', 'Mitsubishi', 'Pajero')\n",
      "Уже есть услуга ('Ремонт тормозных суппортов', 'Renault', nan)\n",
      "0      /acura/slesarnyy-remont/remont-tormoznoy-siste...\n",
      "1      /acura/csx/remont-tormoznoy-sistemy/tormoznye-...\n",
      "2      /acura/mdx/remont-tormoznoy-sistemy/tormoznye-...\n",
      "3      /acura/rdx/remont-tormoznoy-sistemy/tormoznye-...\n",
      "4      /acura/rl/remont-tormoznoy-sistemy/tormoznye-s...\n",
      "                             ...                        \n",
      "847    /volvo/v60/remont-tormoznoy-sistemy/tormoznye-...\n",
      "848    /volvo/v70/remont-tormoznoy-sistemy/tormoznye-...\n",
      "849    /volvo/xc60/remont-tormoznoy-sistemy/tormoznye...\n",
      "850    /volvo/xc70/remont-tormoznoy-sistemy/tormoznye...\n",
      "851    /volvo/xc90/remont-tormoznoy-sistemy/tormoznye...\n",
      "Name: URL, Length: 843, dtype: object\n"
     ]
    }
   ],
   "source": [
    "import pandas as pd\n",
    "\n",
    "def get_top_usluga_url(url:str) -> str:\n",
    "    return url[:url.rfind('/')]\n",
    "\n",
    "def get_relative_url(url:str) -> str:\n",
    "    return url.replace('https://ddcar.ru', '')\n",
    "\n",
    "def get_end_usluga_url(url:str) -> str:\n",
    "    return url[url.rfind('/'):]\n",
    "\n",
    "\n",
    "usluga_name = 'Ремонт тормозных суппортов'\n",
    "usluga_url = '/remont-tormoznoy-sistemy/tormoznye-supporty'    \n",
    "\n",
    "data_read = pd.read_csv('marka_model.csv', encoding = 'utf-8-sig', sep=';')\n",
    "# добавляем столбец с услугой к данным\n",
    "data_read['Услуга'] = usluga_name\n",
    "db_all_page = pd.read_csv('all_export_20200225-095421.csv', encoding = 'cp1251', sep=';')\n",
    "print(db_all_page['Основной текст'])\n",
    "db_all_page = db_all_page.iloc[:, :6]\n",
    "\n",
    "#находим родительский раздел, в котором лежит услуга\n",
    "top_usluga_url = get_top_usluga_url(usluga_url)\n",
    "\n",
    "#ищем название родительской услуги\n",
    "top_usluga_name = False\n",
    "data_filter_url = db_all_page[db_all_page['_URL_'].str.endswith(f'{top_usluga_url}')]\n",
    "if not data_filter_url.empty:\n",
    "    top_usluga_name = data_filter_url['Услуга'].reset_index(drop=True)[0]  \n",
    "else: print(f'Нет родительской услуги: {top_usluga_url}')\n",
    "#если название родительской услуги есть, то ищем раздел в выгрузке с пересечением марки и модели\n",
    "if top_usluga_name:\n",
    "    for idx, data in data_read.iterrows():\n",
    "        \n",
    "        data_filter_marka = db_all_page[db_all_page['Марка'] == data.Марка]\n",
    "        if pd.notna(data.Модель):\n",
    "            data_filter_model = data_filter_marka[data_filter_marka['Модель'] == data.Модель]\n",
    "        else:\n",
    "            data_filter_model = data_filter_marka[pd.isna(data_filter_marka['Модель'])]\n",
    "        #проверка на уже созданную услугу у марки или марки+модели\n",
    "        check_page = data_filter_model[data_filter_model['Услуга'] == data.Услуга]\n",
    "        if not check_page.empty:\n",
    "            data_read = data_read.drop([idx])\n",
    "            print(f'Уже есть услуга {data.Услуга, data.Марка, data.Модель}')\n",
    "            continue\n",
    "        #проверка на созданную родительскую услугу\n",
    "        data_filter_model_url = data_filter_model[data_filter_model['Услуга'] == top_usluga_name]\n",
    "        if not data_filter_model_url.empty:\n",
    "            url_change = data_filter_model_url._URL_ + get_end_usluga_url(usluga_url)\n",
    "            data_read.loc[idx, ['URL']] = url_change.item()\n",
    "            #print(url_change)\n",
    "        else:\n",
    "            print(f'Не найдена услуга {top_usluga_name} для \\n{data}')\n",
    "            data_read.loc[idx, ['URL']] = get_relative_url(data.URL + usluga_url)\n",
    "\n",
    "\n",
    "print(data_read['URL'])\n",
    "data_read['Регион'] = ''\n",
    "data_read = data_read[['Марка', 'Модель', 'Услуга', 'Регион', 'URL']]\n",
    "data_read.to_csv('file_import_with_chek_for_top_usluga.csv', sep= \";\", encoding = \"utf-8-sig\")\n",
    "\n"
   ]
  },
  {
   "cell_type": "code",
   "execution_count": null,
   "metadata": {},
   "outputs": [],
   "source": []
  },
  {
   "cell_type": "code",
   "execution_count": 175,
   "metadata": {},
   "outputs": [
    {
     "name": "stdout",
     "output_type": "stream",
     "text": [
      "21       NaN\n",
      "22       NaN\n",
      "23       NaN\n",
      "24       NaN\n",
      "25       NaN\n",
      "        ... \n",
      "12178    ZDX\n",
      "12179    ZDX\n",
      "12180    ZDX\n",
      "12181    ZDX\n",
      "12182    ZDX\n",
      "Name: Модель, Length: 248, dtype: object\n",
      "True\n",
      "1\n"
     ]
    }
   ],
   "source": [
    "db_all_page = pd.read_csv('export_20200213-103536.csv', encoding = 'cp1251', sep=';')\n",
    "db_all_page1 = db_all_page[db_all_page['Марка'] == 'Acura']\n",
    "print(db_all_page1['Модель'])\n",
    "print(pd.notna(db_all_page1['Модель'][12178]))\n",
    "if pd.notna(db_all_page1['Модель'][12178]):\n",
    "    print(1)"
   ]
  },
  {
   "cell_type": "code",
   "execution_count": null,
   "metadata": {},
   "outputs": [],
   "source": []
  }
 ],
 "metadata": {
  "kernelspec": {
   "display_name": "Python 3",
   "language": "python",
   "name": "python3"
  },
  "language_info": {
   "codemirror_mode": {
    "name": "ipython",
    "version": 3
   },
   "file_extension": ".py",
   "mimetype": "text/x-python",
   "name": "python",
   "nbconvert_exporter": "python",
   "pygments_lexer": "ipython3",
   "version": "3.7.2"
  }
 },
 "nbformat": 4,
 "nbformat_minor": 2
}
